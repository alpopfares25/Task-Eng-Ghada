{
 "cells": [
  {
   "cell_type": "code",
   "execution_count": 1,
   "id": "ece4c265",
   "metadata": {},
   "outputs": [
    {
     "name": "stdout",
     "output_type": "stream",
     "text": [
      "Mass sequence 387.2481710527\n"
     ]
    }
   ],
   "source": [
    "#the mass of VAKA = mass(V) + mass(A) + mass(K) + mass(A)\n",
    "from pyopenms import *\n",
    "seq = AASequence.fromString(\"VAKA\")\n",
    "print(\"Mass sequence\",seq.getMonoWeight())\n"
   ]
  },
  {
   "cell_type": "code",
   "execution_count": 5,
   "id": "02321180",
   "metadata": {},
   "outputs": [
    {
     "name": "stdout",
     "output_type": "stream",
     "text": [
      "The peptide VAKA consists of the following amino acids:\n",
      "Valine : 117.0789793509\n",
      "Alanine : 89.0476792233\n",
      "Lysine : 146.1055284466\n",
      "Alanine : 89.0476792233\n",
      "441.2798662441\n"
     ]
    }
   ],
   "source": [
    "print(\"The peptide\", str(seq), \"consists of the following amino acids:\")\n",
    "sum = 0\n",
    "for a in seq:\n",
    "    print(a.getName(),\":\",a.getMonoWeight())\n",
    "    sum=sum+a.getMonoWeight()\n",
    "print(sum)"
   ]
  },
  {
   "cell_type": "code",
   "execution_count": null,
   "id": "017742e2",
   "metadata": {},
   "outputs": [],
   "source": [
    "#the mass of VAKA = mass(V) + mass(A) + mass(K) + mass(A)\n",
    "#NO\n",
    "#the result of union of two amino asids loss water(H2O)"
   ]
  }
 ],
 "metadata": {
  "kernelspec": {
   "display_name": "Python 3",
   "language": "python",
   "name": "python3"
  },
  "language_info": {
   "codemirror_mode": {
    "name": "ipython",
    "version": 3
   },
   "file_extension": ".py",
   "mimetype": "text/x-python",
   "name": "python",
   "nbconvert_exporter": "python",
   "pygments_lexer": "ipython3",
   "version": "3.8.8"
  }
 },
 "nbformat": 4,
 "nbformat_minor": 5
}
