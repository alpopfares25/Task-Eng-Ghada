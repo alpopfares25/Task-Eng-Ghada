{
 "cells": [
  {
   "cell_type": "code",
   "execution_count": 3,
   "id": "8920030f",
   "metadata": {},
   "outputs": [
    {
     "name": "stdout",
     "output_type": "stream",
     "text": [
      "DTHK\n"
     ]
    },
    {
     "data": {
      "text/plain": [
       "82"
      ]
     },
     "execution_count": 3,
     "metadata": {},
     "output_type": "execute_result"
    }
   ],
   "source": [
    "#Digestion with Trypsin\n",
    "\n",
    "from pyopenms import *\n",
    "from urllib.request import urlretrieve\n",
    "gh = \"https://raw.githubusercontent.com/OpenMS/pyopenms-extra/master\"\n",
    "urlretrieve (gh + \"/src/data/P02769.fasta\", \"fares.fasta\")\n",
    "\n",
    "dig = ProteaseDigestion()\n",
    "dig.getEnzymeName() # Trypsin\n",
    "bsa = \"\".join([l.strip() for l in open(\"fares.fasta\").readlines()[1:]])\n",
    "bsa = AASequence.fromString(bsa)\n",
    "result = []\n",
    "dig.digest(bsa, result)\n",
    "print(result[4].toString())\n",
    "len(result) \n",
    "\n"
   ]
  },
  {
   "cell_type": "code",
   "execution_count": 4,
   "id": "22b2defb",
   "metadata": {},
   "outputs": [
    {
     "name": "stdout",
     "output_type": "stream",
     "text": [
      "WVTFISLLLLFSSAYSR\n",
      "DLGEEHFK\n",
      "GLVLIAFSQYLQQCPFDEHVK\n",
      "LVNELTEFAK\n",
      "TCVADESHAGCEK\n",
      "SLHTLFGDELCK\n",
      "ETYGDMADCCEK\n",
      "NECFLSHK\n",
      "DDSPDLPK\n",
      "LKPDPNTLCDEFK\n",
      "YLYEIAR\n",
      "HPYFYAPELLYYANK\n",
      "YNGVFQECCQAEDK\n",
      "GACLLPK\n",
      "VLASSAR\n",
      "AEFVEVTK\n",
      "LVTDLTK\n",
      "ECCHGDLLECADDR\n",
      "YICDNQDTISSK\n",
      "ECCDKPLLEK\n",
      "SHCIAEVEK\n",
      "DAIPENLPPLTADFAEDK\n",
      "DAFLGSFLYEYSR\n",
      "HPEYAVSVLLR\n",
      "EYEATLEECCAK\n",
      "DDPHACYSTVFDK\n",
      "HLVDEPQNLIK\n",
      "QNCDQFEK\n",
      "LGEYGFQNALIVR\n",
      "VPQVSTPTLVEVSR\n",
      "CCTKPESER\n",
      "MPCTEDYLSLILNR\n",
      "LCVLHEK\n",
      "CCTESLVNR\n",
      "RPCFSALTPDETYVPK\n",
      "LFTFHADICTLPDTEK\n",
      "QTALVELLK\n",
      "ATEEQLK\n",
      "TVMENFVAFVDK\n",
      "CCAADDK\n",
      "EACFAVEGPK\n",
      "LVVSTQTALA\n"
     ]
    }
   ],
   "source": [
    "dig.digest(bsa, result, 7, 40)\n",
    "for s in result:\n",
    "    print(s.toString())"
   ]
  },
  {
   "cell_type": "code",
   "execution_count": 6,
   "id": "07c0bbe9",
   "metadata": {},
   "outputs": [
    {
     "name": "stdout",
     "output_type": "stream",
     "text": [
      "GLVLIAFSQYLQQCPFDEHVK\n"
     ]
    },
    {
     "data": {
      "text/plain": [
       "57"
      ]
     },
     "execution_count": 6,
     "metadata": {},
     "output_type": "execute_result"
    }
   ],
   "source": [
    "#Digestion with Lys-C\n",
    "\n",
    "from urllib.request import urlretrieve\n",
    "gh = \"https://raw.githubusercontent.com/OpenMS/pyopenms-extra/master\"\n",
    "urlretrieve (gh + \"/src/data/P02769.fasta\", \"fares.fasta\")\n",
    "\n",
    "dig = ProteaseDigestion()\n",
    "dig.setEnzyme('Lys-C')\n",
    "bsa = \"\".join([l.strip() for l in open(\"fares.fasta\").readlines()[1:]])\n",
    "bsa = AASequence.fromString(bsa)\n",
    "result = []\n",
    "dig.digest(bsa, result)\n",
    "print(result[4].toString())\n",
    "len(result) # 57 peptides"
   ]
  },
  {
   "cell_type": "code",
   "execution_count": null,
   "id": "fc907d94",
   "metadata": {},
   "outputs": [],
   "source": []
  }
 ],
 "metadata": {
  "kernelspec": {
   "display_name": "Python 3",
   "language": "python",
   "name": "python3"
  },
  "language_info": {
   "codemirror_mode": {
    "name": "ipython",
    "version": 3
   },
   "file_extension": ".py",
   "mimetype": "text/x-python",
   "name": "python",
   "nbconvert_exporter": "python",
   "pygments_lexer": "ipython3",
   "version": "3.8.8"
  }
 },
 "nbformat": 4,
 "nbformat_minor": 5
}
