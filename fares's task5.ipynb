{
 "cells": [
  {
   "cell_type": "code",
   "execution_count": 6,
   "id": "490918e1",
   "metadata": {},
   "outputs": [
    {
     "name": "stdout",
     "output_type": "stream",
     "text": [
      "[<pyopenms.pyopenms_6.ProteinHit object at 0x0000022587AE99F0>, <pyopenms.pyopenms_6.ProteinHit object at 0x0000022587AE9710>, <pyopenms.pyopenms_6.ProteinHit object at 0x0000022587AE9AB0>]\n"
     ]
    }
   ],
   "source": [
    "from pyopenms import *\n",
    "protein_id = ProteinIdentification()\n",
    "protein_id.setIdentifier(\"IdentificationRun1\")\n",
    "#1\n",
    "protein_hit1 = ProteinHit()\n",
    "protein_hit1.setAccession(\"sp|MyAccession\")\n",
    "protein_hit1.setSequence(\"PEPTIDERDLQMTQSPSSLSVSVGDRPEPTIDE\")\n",
    "protein_hit1.setScore(1.0)\n",
    "protein_hit1.setMetaValue(\"target_decoy\", b\"target\") \n",
    "#2\n",
    "protein_hit2 = ProteinHit()\n",
    "protein_hit2.setAccession(\"sp|MyAccession\")\n",
    "protein_hit2.setSequence(\"DLMQSDERPPSEMTDEPDREQTM\")\n",
    "protein_hit2.setScore(1.0)\n",
    "protein_hit2.setMetaValue(\"target_decoy\", b\"target\")\n",
    "#3\n",
    "protein_hit3 = ProteinHit()\n",
    "protein_hit3.setAccession(\"sp|MyAccession\")\n",
    "protein_hit3.setSequence(\"TDEIIGPVQIGRRDQVGDRPEPTIDE\")\n",
    "protein_hit3.setScore(1.0)\n",
    "protein_hit3.setMetaValue(\"target_decoy\", b\"target\")\n",
    "\n",
    "protein_id.setHits([protein_hit1,protein_hit2,protein_hit3])\n",
    "print(protein_id.getHits())"
   ]
  },
  {
   "cell_type": "code",
   "execution_count": 7,
   "id": "a744c7a3",
   "metadata": {},
   "outputs": [
    {
     "name": "stdout",
     "output_type": "stream",
     "text": [
      "Protein hit accession: sp|MyAccession\n",
      "Protein hit sequence: PEPTIDERDLQMTQSPSSLSVSVGDRPEPTIDE\n",
      "Protein hit score: 1.0\n",
      "Protein hit accession: sp|MyAccession\n",
      "Protein hit sequence: DLMQSDERPPSEMTDEPDREQTM\n",
      "Protein hit score: 1.0\n",
      "Protein hit accession: sp|MyAccession\n",
      "Protein hit sequence: TDEIIGPVQIGRRDQVGDRPEPTIDE\n",
      "Protein hit score: 1.0\n"
     ]
    }
   ],
   "source": [
    "for hit in protein_id.getHits():\n",
    "    print(\"Protein hit accession:\", hit.getAccession())\n",
    "    print(\"Protein hit sequence:\", hit.getSequence())\n",
    "    print(\"Protein hit score:\", hit.getScore())"
   ]
  },
  {
   "cell_type": "code",
   "execution_count": 8,
   "id": "9a2a1740",
   "metadata": {},
   "outputs": [],
   "source": [
    "targets=[]\n",
    "Decoys=[]\n",
    "FASTAFile().load(\"fares.fasta\",targets)\n",
    "decoy=DecoyGenerator()\n",
    "for entry in targets:\n",
    "    rec=FASTAEntry(entry)\n",
    "    rec.identifier=\"Decoy-\"+rec.identifier\n",
    "    seq=AASequence().fromString(rec.sequence)\n",
    "    rec.sequence=decoy.reverseProtein(seq).toString()\n",
    "    Decoys.append(rec)\n",
    "    FASTAFile().store(\"fares.fasta\",targets+Decoys)"
   ]
  },
  {
   "cell_type": "code",
   "execution_count": 3,
   "id": "5d57b13a",
   "metadata": {},
   "outputs": [],
   "source": []
  },
  {
   "cell_type": "code",
   "execution_count": null,
   "id": "b47256ad",
   "metadata": {},
   "outputs": [],
   "source": []
  }
 ],
 "metadata": {
  "kernelspec": {
   "display_name": "Python 3",
   "language": "python",
   "name": "python3"
  },
  "language_info": {
   "codemirror_mode": {
    "name": "ipython",
    "version": 3
   },
   "file_extension": ".py",
   "mimetype": "text/x-python",
   "name": "python",
   "nbconvert_exporter": "python",
   "pygments_lexer": "ipython3",
   "version": "3.8.8"
  }
 },
 "nbformat": 4,
 "nbformat_minor": 5
}
