{
 "cells": [
  {
   "cell_type": "code",
   "execution_count": 5,
   "id": "a5fc40dc",
   "metadata": {},
   "outputs": [
    {
     "name": "stdout",
     "output_type": "stream",
     "text": [
      "Collecting pyopenms\n",
      "  Downloading pyopenms-2.7.0-cp38-cp38-win_amd64.whl (29.7 MB)\n",
      "Requirement already satisfied: numpy in d:\\anaconda\\lib\\site-packages (from pyopenms) (1.20.1)\n",
      "Installing collected packages: pyopenms\n",
      "Successfully installed pyopenms-2.7.0\n",
      "Note: you may need to restart the kernel to use updated packages.\n"
     ]
    }
   ],
   "source": [
    "pip install pyopenms"
   ]
  },
  {
   "cell_type": "code",
   "execution_count": 1,
   "id": "13ce734c",
   "metadata": {},
   "outputs": [],
   "source": [
    "from pyopenms import *\n",
    "from urllib.request import urlretrieve"
   ]
  },
  {
   "cell_type": "code",
   "execution_count": 7,
   "id": "e6e78773",
   "metadata": {},
   "outputs": [
    {
     "name": "stdout",
     "output_type": "stream",
     "text": [
      "Trypsin\n"
     ]
    }
   ],
   "source": [
    "dig = ProteaseDigestion()\n",
    "print(dig.getEnzymeName())"
   ]
  },
  {
   "cell_type": "code",
   "execution_count": 13,
   "id": "d6db58ec",
   "metadata": {},
   "outputs": [
    {
     "name": "stdout",
     "output_type": "stream",
     "text": [
      "FPTDDDDKIVGGYTCAANSIPYQVSLNSGSHFCGGSLINSQWVVSAAHCYKSRIQVRLGEHNIDVLEGNEQFINAAKIITHPNFNGNTLDNDIMLIKLSSPATLNSRVATVSLPRSCAAAGTECLISGWGNTKSSGSSYPSLLQCLKAPVLSDSSCKSSYPGQITGNMICVGFLEGGKDSCQGDSGGPVVCNGQLQGIVSWGYGCAQKNKPGVYTKVCNYVNWIQQTIAAN\n"
     ]
    }
   ],
   "source": [
    "bsa = \"\".join([l.strip() for l in open(\"fares.fasta\").readlines()[1:]])\n",
    "bsa = AASequence.fromString(bsa)\n",
    "print(bsa)"
   ]
  },
  {
   "cell_type": "code",
   "execution_count": 14,
   "id": "05cc8375",
   "metadata": {},
   "outputs": [
    {
     "name": "stdout",
     "output_type": "stream",
     "text": [
      "FPTDDDDK\n",
      "IVGGYTCAANSIPYQVSLNSGSHFCGGSLINSQWVVSAAHCYK\n",
      "SR\n",
      "IQVR\n",
      "LGEHNIDVLEGNEQFINAAK\n",
      "IITHPNFNGNTLDNDIMLIK\n",
      "LSSPATLNSR\n",
      "VATVSLPR\n",
      "SCAAAGTECLISGWGNTK\n",
      "SSGSSYPSLLQCLK\n",
      "APVLSDSSCK\n",
      "SSYPGQITGNMICVGFLEGGK\n",
      "DSCQGDSGGPVVCNGQLQGIVSWGYGCAQK\n",
      "NKPGVYTK\n",
      "VCNYVNWIQQTIAAN\n"
     ]
    }
   ],
   "source": [
    "result = []\n",
    "dig.digest(bsa, result)\n",
    "# print results\n",
    "for s in result:\n",
    "    print(s.toString())"
   ]
  },
  {
   "cell_type": "code",
   "execution_count": 15,
   "id": "e9999f77",
   "metadata": {},
   "outputs": [
    {
     "name": "stdout",
     "output_type": "stream",
     "text": [
      "FPTDDDDKIVGGYTCAANSIPYQVSLNSGSHFCGGSLINSQWVVSAAHCYKSRIQVRLGEHNIDVLEGNEQFINAAKIITHPNFNGNTLDNDIMLIKLSSPATLNSRVATVSLPRSCAAAGTECLISGWGNTKSSGSSYPSLLQCLKAPVLSDSSCKSSYPGQITGNMICVGFLEGGKDSCQGDSGGPVVCNGQLQGIVSWGYGCAQKNKPGVYTKVCNYVNWIQQTIAAN\n"
     ]
    }
   ],
   "source": [
    "yeast = \"\".join([l.strip() for l in open(\"yeast.fasta\").readlines()[1:]])\n",
    "yeast = AASequence.fromString(yeast)\n",
    "print(bsa)"
   ]
  },
  {
   "cell_type": "code",
   "execution_count": 16,
   "id": "e6b54f1d",
   "metadata": {},
   "outputs": [
    {
     "name": "stdout",
     "output_type": "stream",
     "text": [
      "MSDSQQSIK\n",
      "VLEELFQK\n",
      "LSVATADNR\n",
      "HEIASEVASFLNGNIIEHDVPEHFFGELAK\n",
      "GIK\n",
      "DK\n",
      "K\n",
      "TAANAMQAVAHIANQSNLSPSVEPYIVQLVPAICTNAGNK\n",
      "DK\n",
      "EIQSVASETLISIVNAVNPVAIK\n",
      "ALLPHLTNAIVETNK\n",
      "WQEK\n",
      "IAILAAISAMVDAAK\n",
      "DQVALR\n",
      "MPELIPVLSETMWDTK\n",
      "K\n",
      "EVK\n",
      "AAATAAMTK\n",
      "ATETVDNK\n",
      "DIER\n",
      "FIPSLIQCIADPTEVPETVHLLGATTFVAEVTPATLSIMVPLLSR\n",
      "GLNER\n",
      "ETGIK\n",
      "R\n",
      "K\n",
      "SAVIIDNMCK\n",
      "LVEDPQVIAPFLGK\n",
      "LLPGLK\n",
      "SNFATIADPEAR\n",
      "EVTLR\n",
      "ALK\n",
      "TLR\n",
      "R\n",
      "VGNVGEDDAIPEVSHAGDVSTTLQVVNELLK\n",
      "DETVAPR\n",
      "FK\n",
      "IVVEYIAAIGADLIDER\n",
      "IIDQQAWFTHITPYMTIFLHEK\n",
      "K\n",
      "AK\n",
      "DILDEFR\n",
      "K\n",
      "R\n",
      "AVDNIPVGPNFDDEEDEGEDLCNCEFSLAYGAK\n",
      "ILLNK\n",
      "TQLR\n",
      "LK\n",
      "R\n",
      "AR\n",
      "R\n",
      "YGICGPNGCGK\n",
      "STLMR\n",
      "AIANGQVDGFPTQEECR\n",
      "TVYVEHDIDGTHSDTSVLDFVFESGVGTK\n",
      "EAIK\n",
      "DK\n",
      "LIEFGFTDEMIAMPISALSGGWK\n",
      "MK\n",
      "LALAR\n",
      "AVLR\n",
      "NADILLLDEPTNHLDTVNVAWLVNYLNTCGITSITISHDSVFLDNVCEYIINYEGLK\n",
      "LR\n",
      "K\n",
      "YK\n",
      "GNFTEFVK\n",
      "K\n",
      "CPAAK\n",
      "AYEELSNTDLEFK\n",
      "FPEPGYLEGVK\n",
      "TK\n",
      "QK\n",
      "AIVK\n",
      "VTNMEFQYPGTSKPQITDINFQCSLSSR\n",
      "IAVIGPNGAGK\n",
      "STLINVLTGELLPTSGEVYTHENCR\n",
      "IAYIK\n",
      "QHAFAHIESHLDK\n",
      "TPSEYIQWR\n",
      "FQTGEDR\n",
      "ETMDR\n",
      "ANR\n",
      "QINENDAEAMNK\n",
      "IFK\n",
      "IEGTPR\n",
      "R\n",
      "IAGIHSR\n",
      "R\n",
      "K\n",
      "FK\n",
      "NTYEYECSFLLGENIGMK\n",
      "SER\n",
      "WVPMMSVDNAWIPR\n",
      "GELVESHSK\n",
      "MVAEVDMK\n",
      "EALASGQFRPLTR\n",
      "K\n",
      "EIEEHCSMLGLDPEIVSHSR\n",
      "IR\n",
      "GLSGGQK\n",
      "VK\n",
      "LVLAAGTWQRPHLIVLDEPTNYLDR\n",
      "DSLGALSK\n",
      "ALK\n",
      "EFEGGVIIITHSAEFTK\n",
      "NLTEEVWAVK\n",
      "DGR\n",
      "MTPSGHNWVSGQGAGPR\n",
      "IEK\n",
      "K\n",
      "EDEEDK\n",
      "FDAMGNK\n",
      "IAGGK\n",
      "K\n",
      "K\n",
      "K\n",
      "K\n",
      "LSSAELR\n",
      "K\n",
      "K\n",
      "K\n",
      "K\n",
      "ER\n",
      "MK\n",
      "K\n",
      "K\n",
      "K\n",
      "ELGDAYVSSDEEF\n"
     ]
    }
   ],
   "source": [
    "result = []\n",
    "dig.digest(yeast, result)\n",
    "# print results\n",
    "for s in result:\n",
    "    print(s.toString())"
   ]
  },
  {
   "cell_type": "code",
   "execution_count": 17,
   "id": "caec06c7",
   "metadata": {},
   "outputs": [
    {
     "name": "stdout",
     "output_type": "stream",
     "text": [
      "33\n",
      "[b'CNBr', b'Trypsin', b'Lys-C', b'TrypChymo', b'V8-DE', b'Lys-C/P', b'Asp-N', b'PepsinA', b'Trypsin/P', b'Lys-N', b'V8-E', b'Asp-N_ambic', b'Arg-C/P', b'Arg-C', b'Chymotrypsin', b'Chymotrypsin/P', b'Asp-N/B', b'Formic_acid', b'Clostripain/P', b'iodosobenzoate', b'cyanogen-bromide', b'2-iodobenzoate', b'glutamyl endopeptidase', b'no cleavage', b'leukocyte elastase', b'elastase-trypsin-chymotrypsin', b'Alpha-lytic protease', b'Glu-C+P', b'unspecific cleavage', b'proline-endopeptidase/HKR', b'proline endopeptidase', b'staphylococcal protease/D', b'PepsinA + P']\n"
     ]
    }
   ],
   "source": [
    "names = []\n",
    "ProteaseDB().getAllNames(names)\n",
    "print(len(names))\n",
    "print(names)"
   ]
  },
  {
   "cell_type": "code",
   "execution_count": 18,
   "id": "b3673522",
   "metadata": {},
   "outputs": [
    {
     "name": "stdout",
     "output_type": "stream",
     "text": [
      "Lys-C cuts after K if not followed by P.\n",
      "(?<=[KX])(?!P)\n"
     ]
    }
   ],
   "source": [
    "e = ProteaseDB().getEnzyme('Lys-C')\n",
    "print(e.getRegExDescription())\n",
    "print(e.getRegEx())"
   ]
  },
  {
   "cell_type": "code",
   "execution_count": 19,
   "id": "c46ff018",
   "metadata": {},
   "outputs": [
    {
     "name": "stdout",
     "output_type": "stream",
     "text": [
      "Trypsin/P cuts after K or R.\n",
      "(?<=[KRX])\n"
     ]
    }
   ],
   "source": [
    "e = ProteaseDB().getEnzyme('Trypsin/P')\n",
    "print(e.getRegExDescription())\n",
    "print(e.getRegEx())"
   ]
  },
  {
   "cell_type": "code",
   "execution_count": 20,
   "id": "69a9beae",
   "metadata": {},
   "outputs": [
    {
     "name": "stdout",
     "output_type": "stream",
     "text": [
      "FPTDDDDK\n",
      "IVGGYTCAANSIPYQVSLNSGSHFCGGSLINSQWVVSAAHCYK\n",
      "SRIQVRLGEHNIDVLEGNEQFINAAK\n",
      "IITHPNFNGNTLDNDIMLIK\n",
      "LSSPATLNSRVATVSLPRSCAAAGTECLISGWGNTK\n",
      "SSGSSYPSLLQCLK\n",
      "APVLSDSSCK\n",
      "SSYPGQITGNMICVGFLEGGK\n",
      "DSCQGDSGGPVVCNGQLQGIVSWGYGCAQK\n",
      "NKPGVYTK\n",
      "VCNYVNWIQQTIAAN\n"
     ]
    }
   ],
   "source": [
    "dig = ProteaseDigestion()\n",
    "dig.setEnzyme('Lys-C')\n",
    "bsa = \"\".join([l.strip() for l in open(\"fares.fasta\").readlines()[1:]])\n",
    "bsa = AASequence.fromString(bsa)\n",
    "result = []\n",
    "dig.digest(bsa, result)\n",
    "\n",
    "# print the results\n",
    "for s in result:\n",
    "    print(s.toString())"
   ]
  },
  {
   "cell_type": "code",
   "execution_count": 21,
   "id": "1bc80a18",
   "metadata": {},
   "outputs": [
    {
     "name": "stdout",
     "output_type": "stream",
     "text": [
      "MSDSQQSIK\n",
      "VLEELFQK\n",
      "LSVATADNRHEIASEVASFLNGNIIEHDVPEHFFGELAK\n",
      "GIK\n",
      "DK\n",
      "K\n",
      "TAANAMQAVAHIANQSNLSPSVEPYIVQLVPAICTNAGNK\n",
      "DK\n",
      "EIQSVASETLISIVNAVNPVAIK\n",
      "ALLPHLTNAIVETNK\n",
      "WQEK\n",
      "IAILAAISAMVDAAK\n",
      "DQVALRMPELIPVLSETMWDTK\n",
      "K\n",
      "EVK\n",
      "AAATAAMTK\n",
      "ATETVDNK\n",
      "DIERFIPSLIQCIADPTEVPETVHLLGATTFVAEVTPATLSIMVPLLSRGLNERETGIK\n",
      "RK\n",
      "SAVIIDNMCK\n",
      "LVEDPQVIAPFLGK\n",
      "LLPGLK\n",
      "SNFATIADPEAREVTLRALK\n",
      "TLRRVGNVGEDDAIPEVSHAGDVSTTLQVVNELLK\n",
      "DETVAPRFK\n",
      "IVVEYIAAIGADLIDERIIDQQAWFTHITPYMTIFLHEK\n",
      "K\n",
      "AK\n",
      "DILDEFRK\n",
      "RAVDNIPVGPNFDDEEDEGEDLCNCEFSLAYGAK\n",
      "ILLNK\n",
      "TQLRLK\n",
      "RARRYGICGPNGCGK\n",
      "STLMRAIANGQVDGFPTQEECRTVYVEHDIDGTHSDTSVLDFVFESGVGTK\n",
      "EAIK\n",
      "DK\n",
      "LIEFGFTDEMIAMPISALSGGWK\n",
      "MK\n",
      "LALARAVLRNADILLLDEPTNHLDTVNVAWLVNYLNTCGITSITISHDSVFLDNVCEYIINYEGLK\n",
      "LRK\n",
      "YK\n",
      "GNFTEFVK\n",
      "K\n",
      "CPAAK\n",
      "AYEELSNTDLEFK\n",
      "FPEPGYLEGVK\n",
      "TK\n",
      "QK\n",
      "AIVK\n",
      "VTNMEFQYPGTSKPQITDINFQCSLSSRIAVIGPNGAGK\n",
      "STLINVLTGELLPTSGEVYTHENCRIAYIK\n",
      "QHAFAHIESHLDK\n",
      "TPSEYIQWRFQTGEDRETMDRANRQINENDAEAMNK\n",
      "IFK\n",
      "IEGTPRRIAGIHSRRK\n",
      "FK\n",
      "NTYEYECSFLLGENIGMK\n",
      "SERWVPMMSVDNAWIPRGELVESHSK\n",
      "MVAEVDMK\n",
      "EALASGQFRPLTRK\n",
      "EIEEHCSMLGLDPEIVSHSRIRGLSGGQK\n",
      "VK\n",
      "LVLAAGTWQRPHLIVLDEPTNYLDRDSLGALSK\n",
      "ALK\n",
      "EFEGGVIIITHSAEFTK\n",
      "NLTEEVWAVK\n",
      "DGRMTPSGHNWVSGQGAGPRIEK\n",
      "K\n",
      "EDEEDK\n",
      "FDAMGNK\n",
      "IAGGK\n",
      "K\n",
      "K\n",
      "K\n",
      "K\n",
      "LSSAELRK\n",
      "K\n",
      "K\n",
      "K\n",
      "ERMK\n",
      "K\n",
      "K\n",
      "K\n",
      "ELGDAYVSSDEEF\n"
     ]
    }
   ],
   "source": [
    "bsa = \"\".join([l.strip() for l in open(\"yeast.fasta\").readlines()[1:]])\n",
    "bsa = AASequence.fromString(bsa)\n",
    "result = []\n",
    "dig.digest(bsa, result)\n",
    "\n",
    "# print the results\n",
    "for s in result:\n",
    "    print(s.toString())"
   ]
  },
  {
   "cell_type": "code",
   "execution_count": null,
   "id": "1d5ecb08",
   "metadata": {},
   "outputs": [],
   "source": []
  }
 ],
 "metadata": {
  "kernelspec": {
   "display_name": "Python 3",
   "language": "python",
   "name": "python3"
  },
  "language_info": {
   "codemirror_mode": {
    "name": "ipython",
    "version": 3
   },
   "file_extension": ".py",
   "mimetype": "text/x-python",
   "name": "python",
   "nbconvert_exporter": "python",
   "pygments_lexer": "ipython3",
   "version": "3.8.8"
  }
 },
 "nbformat": 4,
 "nbformat_minor": 5
}
