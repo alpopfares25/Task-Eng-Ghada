{
 "cells": [
  {
   "cell_type": "code",
   "execution_count": 1,
   "id": "a22f6445",
   "metadata": {},
   "outputs": [
    {
     "name": "stdout",
     "output_type": "stream",
     "text": [
      "Help on module pyopenms.Constants in pyopenms:\n",
      "\n",
      "NAME\n",
      "    pyopenms.Constants\n",
      "\n",
      "DESCRIPTION\n",
      "    # @brief Mathematical and physical constants namespace.\n",
      "    # \n",
      "    # This namespace contains definitions for some basic mathematical and physical constants.\n",
      "    # All constants are double precision.\n",
      "\n",
      "DATA\n",
      "    AVOGADRO = 6.0221367e+23\n",
      "    BOHR_RADIUS = 5.29177249e-11\n",
      "    BOLTZMANN = 1.380657e-23\n",
      "    C13C12_MASSDIFF_U = 1.0033548378\n",
      "    CAL_PER_JOULE = 0.2390057361376673\n",
      "    DEG_PER_RAD = 57.29577951308232\n",
      "    E = 2.718281828459045\n",
      "    ELECTRON_MASS = 9.1093897e-31\n",
      "    ELECTRON_MASS_U = 0.0005485799042984105\n",
      "    ELEMENTARY_CHARGE = 1.60217738e-19\n",
      "    EPSILON = 1e-06\n",
      "    F = 96485.31200007845\n",
      "    FARADAY = 96485.31200007845\n",
      "    FINE_STRUCTURE_CONSTANT = 0.00729735\n",
      "    FRAGMENT_ANNOTATION_USERPARAM = 'fragment_annotation'\n",
      "    GAS_CONSTANT = 8.314505189811898\n",
      "    GRAVITATIONAL_CONSTANT = 6.67259e-11\n",
      "    JOULE_PER_CAL = 4.184\n",
      "    MM_PER_INCH = 25.4\n",
      "    MOL = 6.0221367e+23\n",
      "    M_PER_FOOT = 3.048\n",
      "    NA = 6.0221367e+23\n",
      "    NEUTRON_MASS = 1.6749286e-27\n",
      "    NEUTRON_MASS_U = 1.00866491566\n",
      "    PI = 3.141592653589793\n",
      "    PLANCK = 6.6260754e-34\n",
      "    PRECURSOR_ERROR_PPM_USERPARAM = 'precursor_mz_error_ppm'\n",
      "    PROTON_MASS = 1.672623e-27\n",
      "    PROTON_MASS_U = 1.007276466771\n",
      "    R = 8.314505189811898\n",
      "    RAD_PER_DEG = 0.017453292519943295\n",
      "    SPEED_OF_LIGHT = 299792458.0\n",
      "    VACUUM_PERMEABILITY = 1.2566370614359173e-06\n",
      "    VACUUM_PERMITTIVITY = 8.85419e-12\n",
      "    a0 = 5.29177249e-11\n",
      "    c = 299792458.0\n",
      "    e0 = 1.60217738e-19\n",
      "    h = 6.6260754e-34\n",
      "    k = 1.380657e-23\n",
      "\n",
      "FILE\n",
      "    d:\\anaconda\\lib\\site-packages\\pyopenms\\constants.py\n",
      "\n",
      "\n",
      "avogadro's number is 6.0221367e+23\n"
     ]
    }
   ],
   "source": [
    "import pyopenms\n",
    "help(pyopenms.Constants)\n",
    "print (\"avogadro's number is\", pyopenms.Constants.AVOGADRO)"
   ]
  },
  {
   "cell_type": "code",
   "execution_count": 3,
   "id": "b079bef0",
   "metadata": {},
   "outputs": [
    {
     "name": "stdout",
     "output_type": "stream",
     "text": [
      "Oxygen\n",
      "O\n",
      "15.994915\n",
      "15.999405323160001\n",
      "Sulfur\n",
      "S\n",
      "31.97207073\n",
      "32.066084735289\n",
      "One mole of oxygen weighs 31.998810646320003 grams\n",
      "One mole of 16O2 weighs 31.98983 grams\n"
     ]
    }
   ],
   "source": [
    "from pyopenms import *\n",
    "edb = ElementDB()\n",
    "\n",
    "edb.hasElement(\"O\")\n",
    "edb.hasElement(\"S\")\n",
    "\n",
    "oxy = edb.getElement(\"O\")\n",
    "print(oxy.getName())\n",
    "print(oxy.getSymbol())\n",
    "print(oxy.getMonoWeight())\n",
    "print(oxy.getAverageWeight())\n",
    "\n",
    "sulfur = edb.getElement(\"S\")\n",
    "print(sulfur.getName())\n",
    "print(sulfur.getSymbol())\n",
    "print(sulfur.getMonoWeight())\n",
    "print(sulfur.getAverageWeight())\n",
    "isotopes = sulfur.getIsotopeDistribution()\n",
    "\n",
    "print (\"One mole of oxygen weighs\", 2*oxy.getAverageWeight(), \"grams\")\n",
    "print (\"One mole of 16O2 weighs\", 2*oxy.getMonoWeight(), \"grams\")"
   ]
  },
  {
   "cell_type": "code",
   "execution_count": 5,
   "id": "8e28493f",
   "metadata": {},
   "outputs": [
    {
     "name": "stdout",
     "output_type": "stream",
     "text": [
      "Oxygen isotope 15.994915 has abundance 99.75699782371521 %\n",
      "Oxygen isotope 16.999132 has abundance 0.03800000122282654 %\n",
      "Oxygen isotope 17.999169 has abundance 0.20500000100582838 %\n",
      "Sulfur isotope 31.97207073 has abundance 94.92999911308289 %\n",
      "Sulfur isotope 32.971458 has abundance 0.7600000128149986 %\n",
      "Sulfur isotope 33.967867 has abundance 4.2899999767541885 %\n",
      "Sulfur isotope 35.967081 has abundance 0.019999999494757503 %\n"
     ]
    }
   ],
   "source": [
    "edb = ElementDB()\n",
    "oxy_isoDist = {\"mass\": [], \"abundance\": []}\n",
    "sulfur_isoDist = {\"mass\": [], \"abundance\": []}\n",
    "\n",
    "oxy = edb.getElement(\"O\")\n",
    "isotopes = oxy.getIsotopeDistribution()\n",
    "for iso in isotopes.getContainer():\n",
    "    print (\"Oxygen isotope\", iso.getMZ(), \"has abundance\", iso.getIntensity()*100, \"%\")\n",
    "    oxy_isoDist[\"mass\"].append(iso.getMZ())\n",
    "    oxy_isoDist[\"abundance\"].append((iso.getIntensity() * 100))\n",
    "\n",
    "sulfur = edb.getElement(\"S\")\n",
    "isotopes = sulfur.getIsotopeDistribution()\n",
    "for iso in isotopes.getContainer():\n",
    "    print (\"Sulfur isotope\", iso.getMZ(), \"has abundance\", iso.getIntensity()*100, \"%\")\n",
    "    sulfur_isoDist[\"mass\"].append(iso.getMZ())\n",
    "    sulfur_isoDist[\"abundance\"].append((iso.getIntensity() * 100))"
   ]
  },
  {
   "cell_type": "code",
   "execution_count": 6,
   "id": "b4779564",
   "metadata": {},
   "outputs": [
    {
     "name": "stdout",
     "output_type": "stream",
     "text": [
      "Mass difference between 12C and 13C: 1.0033550000000009\n",
      "Mass difference between 14N and N15: 0.9970350000000003\n",
      "Relative deviation: 0.6298867300208343 %\n"
     ]
    }
   ],
   "source": [
    "edb = ElementDB()\n",
    "isotopes = edb.getElement(\"C\").getIsotopeDistribution().getContainer()\n",
    "carbon_isotope_difference = isotopes[1].getMZ() - isotopes[0].getMZ()\n",
    "isotopes = edb.getElement(\"N\").getIsotopeDistribution().getContainer()\n",
    "nitrogen_isotope_difference = isotopes[1].getMZ() - isotopes[0].getMZ()\n",
    "\n",
    "print (\"Mass difference between 12C and 13C:\", carbon_isotope_difference)\n",
    "print (\"Mass difference between 14N and N15:\", nitrogen_isotope_difference)\n",
    "print (\"Relative deviation:\", 100*(carbon_isotope_difference -\n",
    "        nitrogen_isotope_difference)/carbon_isotope_difference, \"%\")"
   ]
  },
  {
   "cell_type": "code",
   "execution_count": 8,
   "id": "50d6c5a7",
   "metadata": {},
   "outputs": [
    {
     "name": "stdout",
     "output_type": "stream",
     "text": [
      "ethanol chemical formula: C2H6O1\n",
      "ethanol composition: {b'C': 2, b'H': 6, b'O': 1}\n",
      "ethanol has 6 hydrogen atoms\n"
     ]
    }
   ],
   "source": [
    "methnol = EmpiricalFormula(\"CH3OH\")\n",
    "water = EmpiricalFormula(\"H2O\")\n",
    "ethnol = EmpiricalFormula(\"CH2\") + methnol\n",
    "print(\"ethanol chemical formula:\", ethnol.toString())\n",
    "print(\"ethanol composition:\", ethnol.getElementalComposition())\n",
    "print(\"ethanol has\", ethnol.getElementalComposition()[b\"H\"], \"hydrogen atoms\")"
   ]
  },
  {
   "cell_type": "code",
   "execution_count": 9,
   "id": "646df51b",
   "metadata": {},
   "outputs": [
    {
     "name": "stdout",
     "output_type": "stream",
     "text": [
      "Coarse Isotope Distribution:\n",
      "This covers 1.000000014755642 probability\n",
      "Isotope 46.0418651914 has abundance 97.56630063056946 %\n",
      "Isotope 47.045220029199996 has abundance 2.21499539911747 %\n",
      "Isotope 48.048574867 has abundance 0.2142168115824461 %\n",
      "Isotope 49.0519297048 has abundance 0.004488634294830263 %\n",
      "Fine Isotope Distribution:\n",
      "This covers 0.9994461630121805 probability\n",
      "Isotope 46.0418651914 has abundance 97.5662887096405 %\n",
      "Isotope 47.0452201914 has abundance 2.110501006245613 %\n",
      "Isotope 47.0481419395 has abundance 0.06732848123647273 %\n",
      "Isotope 48.046119191399995 has abundance 0.20049810409545898 %\n"
     ]
    }
   ],
   "source": [
    "methanol = EmpiricalFormula(\"CH3OH\")\n",
    "ethanol = EmpiricalFormula(\"CH2\") + methanol\n",
    "\n",
    "methanol_isoDist = {\"mass\": [], \"abundance\": []}\n",
    "ethanol_isoDist = {\"mass\": [], \"abundance\": []}\n",
    "\n",
    "print(\"Coarse Isotope Distribution:\")\n",
    "isotopes = ethanol.getIsotopeDistribution( CoarseIsotopePatternGenerator(4) )\n",
    "prob_sum = sum([iso.getIntensity() for iso in isotopes.getContainer()])\n",
    "print(\"This covers\", prob_sum, \"probability\")\n",
    "for iso in isotopes.getContainer():\n",
    "    print (\"Isotope\", iso.getMZ(), \"has abundance\", iso.getIntensity()*100, \"%\")\n",
    "    methanol_isoDist[\"mass\"].append(iso.getMZ())\n",
    "    methanol_isoDist[\"abundance\"].append((iso.getIntensity() * 100))\n",
    "\n",
    "print(\"Fine Isotope Distribution:\")\n",
    "isotopes = ethanol.getIsotopeDistribution( FineIsotopePatternGenerator(1e-3) )\n",
    "prob_sum = sum([iso.getIntensity() for iso in isotopes.getContainer()])\n",
    "print(\"This covers\", prob_sum, \"probability\")\n",
    "for iso in isotopes.getContainer():\n",
    "    print (\"Isotope\", iso.getMZ(), \"has abundance\", iso.getIntensity()*100, \"%\")\n",
    "    ethanol_isoDist[\"mass\"].append(iso.getMZ())\n",
    "    ethanol_isoDist[\"abundance\"].append((iso.getIntensity() * 100))"
   ]
  },
  {
   "cell_type": "code",
   "execution_count": 10,
   "id": "e153162f",
   "metadata": {},
   "outputs": [
    {
     "name": "stdout",
     "output_type": "stream",
     "text": [
      "Fine Isotope Distribution:\n",
      "This covers 0.9999993089130612 probability\n",
      "Isotope 46.0418651914 has abundance 97.5662887096405 %\n",
      "Isotope 47.0452201914 has abundance 2.110501006245613 %\n",
      "Isotope 47.046082191400004 has abundance 0.03716550418175757 %\n",
      "Isotope 47.0481419395 has abundance 0.06732848123647273 %\n",
      "Isotope 48.046119191399995 has abundance 0.20049810409545898 %\n",
      "Isotope 48.0485751914 has abundance 0.011413302854634821 %\n",
      "Isotope 48.0494371914 has abundance 0.0008039440217544325 %\n",
      "Isotope 48.0514969395 has abundance 0.0014564131561201066 %\n",
      "Isotope 49.049474191399995 has abundance 0.004337066275184043 %\n",
      "Isotope 49.0523959395 has abundance 0.00013835959862262825 %\n"
     ]
    }
   ],
   "source": [
    "methnol = EmpiricalFormula(\"CH3OH\")\n",
    "ethnol = EmpiricalFormula(\"CH2\") + methnol\n",
    "\n",
    "print(\"Fine Isotope Distribution:\")\n",
    "isotopes = ethnol.getIsotopeDistribution( FineIsotopePatternGenerator(1e-6) )\n",
    "prob_sum = sum([iso.getIntensity() for iso in isotopes.getContainer()])\n",
    "print(\"This covers\", prob_sum, \"probability\")\n",
    "for iso in isotopes.getContainer():\n",
    "    print (\"Isotope\", iso.getMZ(), \"has abundance\", iso.getIntensity()*100, \"%\")"
   ]
  },
  {
   "cell_type": "code",
   "execution_count": 11,
   "id": "26079e7b",
   "metadata": {},
   "outputs": [
    {
     "name": "stdout",
     "output_type": "stream",
     "text": [
      "Lysine\n",
      "Lys\n",
      "K\n",
      "146.18788276708446\n",
      "146.1055284466\n",
      "2.16\n",
      "C6H14N2O2\n"
     ]
    }
   ],
   "source": [
    "lysinee = ResidueDB().getResidue(\"Lysine\")\n",
    "print(lysinee.getName())\n",
    "print(lysinee.getThreeLetterCode())\n",
    "print(lysinee.getOneLetterCode())\n",
    "print(lysinee.getAverageWeight())\n",
    "print(lysinee.getMonoWeight())\n",
    "print(lysinee.getPka())\n",
    "print(lysinee.getFormula().toString())"
   ]
  },
  {
   "cell_type": "code",
   "execution_count": 12,
   "id": "139ccd81",
   "metadata": {},
   "outputs": [
    {
     "name": "stdout",
     "output_type": "stream",
     "text": [
      "UniMod:35\n",
      "35\n",
      "15.994915\n",
      "Oxidation\n",
      "Oxidation (S)\n",
      "Oxidation or Hydroxylation\n",
      "O1\n"
     ]
    }
   ],
   "source": [
    "oxy = ModificationsDB().getModification(\"Oxidation\")\n",
    "print(oxy.getUniModAccession())\n",
    "print(oxy.getUniModRecordId())\n",
    "print(oxy.getDiffMonoMass())\n",
    "print(oxy.getId())\n",
    "print(oxy.getFullId())\n",
    "print(oxy.getFullName())\n",
    "print(oxy.getDiffFormula())"
   ]
  },
  {
   "cell_type": "code",
   "execution_count": 13,
   "id": "45417613",
   "metadata": {},
   "outputs": [
    {
     "name": "stdout",
     "output_type": "stream",
     "text": [
      "15.994915 : 0.9975699782371521\n",
      "16.998269837800002 : 0.0003800000122282654\n",
      "18.0016246756 : 0.002050000010058284\n"
     ]
    }
   ],
   "source": [
    "isotopes = oxy.getDiffFormula().getIsotopeDistribution(CoarseIsotopePatternGenerator(5))\n",
    "for iso in isotopes.getContainer():\n",
    "    print (iso.getMZ(), \":\", iso.getIntensity())"
   ]
  },
  {
   "cell_type": "code",
   "execution_count": 14,
   "id": "738712f2",
   "metadata": {},
   "outputs": [
    {
     "name": "stdout",
     "output_type": "stream",
     "text": [
      "uridine\n",
      "U\n",
      "244.2043\n",
      "244.0695\n",
      "C9H12N2O6\n",
      "False\n",
      "1-methyladenosine\n",
      "True\n"
     ]
    }
   ],
   "source": [
    "uridine = RibonucleotideDB().getRibonucleotide(b\"U\")\n",
    "print(uridine.getName())\n",
    "print(uridine.getCode())\n",
    "print(uridine.getAvgMass())\n",
    "print(uridine.getMonoMass())\n",
    "print(uridine.getFormula().toString())\n",
    "print(uridine.isModified())\n",
    "methyladenosine = RibonucleotideDB().getRibonucleotide(b\"m1A\")\n",
    "print(methyladenosine.getName())\n",
    "print(methyladenosine.isModified())"
   ]
  },
  {
   "cell_type": "code",
   "execution_count": null,
   "id": "ee0c13de",
   "metadata": {},
   "outputs": [],
   "source": []
  }
 ],
 "metadata": {
  "kernelspec": {
   "display_name": "Python 3",
   "language": "python",
   "name": "python3"
  },
  "language_info": {
   "codemirror_mode": {
    "name": "ipython",
    "version": 3
   },
   "file_extension": ".py",
   "mimetype": "text/x-python",
   "name": "python",
   "nbconvert_exporter": "python",
   "pygments_lexer": "ipython3",
   "version": "3.8.8"
  }
 },
 "nbformat": 4,
 "nbformat_minor": 5
}
