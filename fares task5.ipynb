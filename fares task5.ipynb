{
 "cells": [
  {
   "cell_type": "code",
   "execution_count": 2,
   "id": "490918e1",
   "metadata": {},
   "outputs": [],
   "source": [
    "from pyopenms import *\n",
    "protein_id = ProteinIdentification()\n",
    "protein_id.setIdentifier(\"IdentificationRun1\")\n",
    "\n",
    "       #1\n",
    "protein_hit = ProteinHit()\n",
    "protein_hit.setAccession(\"sp|MyAccession\")\n",
    "protein_hit.setSequence(\"PEPTIDERDLQMTQSPSSLSVSVGDRPEPTIDE\")\n",
    "protein_hit.setScore(1.0)\n",
    "protein_hit.setMetaValue(\"target_decoy\", b\"target\")\n",
    "\n",
    "protein_id.setHits([protein_hit])"
   ]
  },
  {
   "cell_type": "code",
   "execution_count": null,
   "id": "a744c7a3",
   "metadata": {},
   "outputs": [],
   "source": []
  },
  {
   "cell_type": "code",
   "execution_count": 3,
   "id": "9a2a1740",
   "metadata": {},
   "outputs": [],
   "source": [
    "targets=[]\n",
    "Decoys=[]\n",
    "FASTAFile().load(\"yeastFile.fasta\",targets)\n",
    "decoy=DecoyGenerator()\n",
    "for entry in targets:\n",
    "    rec=FASTAEntry(entry)\n",
    "    rec.identifier=\"Decoy-\"+rec.identifier\n",
    "    seq=AASequence().fromString(rec.sequence)\n",
    "    rec.sequence=decoy.reverseProtein(seq).toString()\n",
    "    Decoys.append(rec)"
   ]
  },
  {
   "cell_type": "code",
   "execution_count": 4,
   "id": "5d57b13a",
   "metadata": {},
   "outputs": [],
   "source": [
    "FASTAFile().store(\"yeastFileEditig.fasta\",targets+Decoys)"
   ]
  },
  {
   "cell_type": "code",
   "execution_count": null,
   "id": "b47256ad",
   "metadata": {},
   "outputs": [],
   "source": []
  }
 ],
 "metadata": {
  "kernelspec": {
   "display_name": "Python 3",
   "language": "python",
   "name": "python3"
  },
  "language_info": {
   "codemirror_mode": {
    "name": "ipython",
    "version": 3
   },
   "file_extension": ".py",
   "mimetype": "text/x-python",
   "name": "python",
   "nbconvert_exporter": "python",
   "pygments_lexer": "ipython3",
   "version": "3.8.10"
  }
 },
 "nbformat": 4,
 "nbformat_minor": 5
}
